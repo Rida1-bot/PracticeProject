{
 "cells": [
  {
   "cell_type": "markdown",
   "id": "6e3f963e",
   "metadata": {},
   "source": [
    "pypi-AgENdGVzdC5weXBpLm9yZwIkNTFlMmMzNDQtM2ZlYi00ZjY2LThmNGUtNDQ2NmQ4OTZmNTU5AAIqWzMsIjQwNjIxODViLTJlMDUtNDE0OS04ZWJiLWRkNWI4ZGE3YjA5ZSJdAAAGIKeXe3yUAY51I7rGkmBkmu01t2dXlsiU9jSCnklVQ2bE\n"
   ]
  },
  {
   "cell_type": "markdown",
   "id": "2dce99ee",
   "metadata": {},
   "source": [
    "## Operators\n",
    "\n",
    "### Arithmatic operations\n"
   ]
  },
  {
   "cell_type": "code",
   "execution_count": 7,
   "id": "eedb60e3",
   "metadata": {},
   "outputs": [
    {
     "name": "stdout",
     "output_type": "stream",
     "text": [
      "6 -2 2.0 8\n",
      "2\n",
      "2\n",
      "16\n"
     ]
    }
   ],
   "source": [
    "x = 2\n",
    "y =4\n",
    "print(x+y,x-y,y/x,x*y)\n",
    "print(y//x)\n",
    "print(x%y)\n",
    "#x^y\n",
    "print(x**y)"
   ]
  },
  {
   "cell_type": "markdown",
   "id": "c2aa788d",
   "metadata": {},
   "source": [
    "### Assignment operator"
   ]
  },
  {
   "cell_type": "code",
   "execution_count": 26,
   "id": "066c9475",
   "metadata": {
    "scrolled": true
   },
   "outputs": [
    {
     "name": "stdout",
     "output_type": "stream",
     "text": [
      "a+5 =  7\n",
      "a-1 =  6\n",
      "a*2 =  12\n",
      "a/2 = 6.0\n",
      "2.0\n",
      "4.0\n",
      "1\n"
     ]
    }
   ],
   "source": [
    "a = 2\n",
    "b=1\n",
    "a+=5\n",
    "print('a+5 = ',a)\n",
    "a-=1\n",
    "print('a-1 = ',a)\n",
    "a*=2\n",
    "print('a*2 = ',a)\n",
    "a/=2\n",
    "print('a/2 =',a)\n",
    "a//=3\n",
    "print(a)\n",
    "a**=2\n",
    "print(a)\n",
    "#Bitwise and operator\n",
    "b&=3\n",
    "print(b)"
   ]
  },
  {
   "cell_type": "markdown",
   "id": "2b1ebd72",
   "metadata": {},
   "source": [
    "### Comparision operator"
   ]
  },
  {
   "cell_type": "code",
   "execution_count": null,
   "id": "90604467",
   "metadata": {},
   "outputs": [],
   "source": []
  }
 ],
 "metadata": {
  "kernelspec": {
   "display_name": "Python 3 (ipykernel)",
   "language": "python",
   "name": "python3"
  },
  "language_info": {
   "codemirror_mode": {
    "name": "ipython",
    "version": 3
   },
   "file_extension": ".py",
   "mimetype": "text/x-python",
   "name": "python",
   "nbconvert_exporter": "python",
   "pygments_lexer": "ipython3",
   "version": "3.9.15"
  }
 },
 "nbformat": 4,
 "nbformat_minor": 5
}
