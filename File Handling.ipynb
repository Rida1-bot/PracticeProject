{
 "cells": [
  {
   "cell_type": "markdown",
   "id": "d678eea4",
   "metadata": {},
   "source": [
    "# File Handling\n",
    "\n",
    "#### File \n",
    "Is location on disk that stores related information and has name. <bR> Use file to organize data in different directories on hard disk. <br> RAM is volatile, it holds data as long as it is up. So we use file to store data permanentely.<br><br>\n",
    "    \n",
    "#### File Types\n",
    "<strong>Binary Files:</strong>"
   ]
  }
 ],
 "metadata": {
  "kernelspec": {
   "display_name": "Python 3 (ipykernel)",
   "language": "python",
   "name": "python3"
  },
  "language_info": {
   "codemirror_mode": {
    "name": "ipython",
    "version": 3
   },
   "file_extension": ".py",
   "mimetype": "text/x-python",
   "name": "python",
   "nbconvert_exporter": "python",
   "pygments_lexer": "ipython3",
   "version": "3.9.15"
  }
 },
 "nbformat": 4,
 "nbformat_minor": 5
}
