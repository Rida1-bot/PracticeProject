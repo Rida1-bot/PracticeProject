{
 "cells": [
  {
   "cell_type": "markdown",
   "id": "0621d9d4",
   "metadata": {},
   "source": [
    "## Numeric data type\n",
    "All numeric data types are immutable.\n",
    ">> Integers:\n",
    "comprise of all positive and negative whole numbers. They are output of some airthematic expression and functions that return numeric value. \n",
    "\n",
    ">> Floating point number:\n",
    "represents positive and negative decimal numbers, are faithful upto 15 decimal place. The range in most environment is -1.7976931348623157e+308 to 1.7976931348623157e+308. Floating point numbers can also be written using the scientific notation with an \"e\" to indicate the power of 10.\n",
    "\n",
    ">> Complex number:\n",
    "represent complex numbers as a pair of machine level double precision floating point numbers. One floating point number represent the real part and another floating point number represent the imaginary part\n",
    "\n",
    ">> Boolean:\n",
    "Also known as bool data type allows us to choose between two values: True and False. Booleans have the type bool. A Boolean is used to determine whether the logic of an expression or a comparison is correct. It plays a huge role in data comparisons."
   ]
  },
  {
   "cell_type": "code",
   "execution_count": 5,
   "id": "9d3a447e",
   "metadata": {},
   "outputs": [
    {
     "name": "stdout",
     "output_type": "stream",
     "text": [
      "<class 'int'>\n",
      "<class 'float'>\n",
      "<class 'complex'>\n",
      "<class 'complex'>\n",
      "<class 'bool'>\n"
     ]
    }
   ],
   "source": [
    "a = 6\n",
    "b = 2.2\n",
    "c =complex(2,1)\n",
    "d= 3 + 2j\n",
    "e= True\n",
    "print(type(a))\n",
    "print(type(b))\n",
    "print(type(c))\n",
    "print(type(d))\n",
    "print(type(e))"
   ]
  },
  {
   "cell_type": "code",
   "execution_count": 6,
   "id": "3f088a37",
   "metadata": {},
   "outputs": [
    {
     "name": "stdout",
     "output_type": "stream",
     "text": [
      "a: 10\n",
      "b: 15\n"
     ]
    }
   ],
   "source": [
    "# Booleans are automatically converted to `int`s when used in arithmetic operations. \n",
    "# `True` is converted to `1` and `False` is converted to `0`.\n",
    "a = True + 9\n",
    "b = False + 15\n",
    "\n",
    "print(\"a:\", a)\n",
    "print(\"b:\", b)"
   ]
  },
  {
   "cell_type": "markdown",
   "id": "cfe01c06",
   "metadata": {},
   "source": [
    "Any value in Python can be converted to a Boolean using the bool function. Only the following values evaluate to False (they are often called falsy values):\n",
    "\n",
    "The value False itself\n",
    "\n",
    "The integer 0\n",
    "\n",
    "The float 0.0\n",
    "\n",
    "The empty value None\n",
    "\n",
    "The empty text \"\"\n",
    "\n",
    "The empty list []\n",
    "\n",
    "The empty tuple ()\n",
    "\n",
    "The empty dictionary {}\n",
    "\n",
    "The empty set set()\n",
    "\n",
    "The empty range range(0)\n",
    "\n",
    "Everything else evaluates to True (a value that evaluates to True is often called a truthy value).\n",
    "\n",
    "The None type includes a single value None, used to indicate the absence of a value. None has the type NoneType. It is often used to declare a variable whose value may be assigned later or as a return value of functions that do not return a value"
   ]
  },
  {
   "cell_type": "code",
   "execution_count": 7,
   "id": "f6fc6c3f",
   "metadata": {},
   "outputs": [
    {
     "data": {
      "text/plain": [
       "(3.3, 3.0, False)"
      ]
     },
     "execution_count": 7,
     "metadata": {},
     "output_type": "execute_result"
    }
   ],
   "source": [
    "'''\n",
    "Floating-point numbers are stored in computer hardware in IEEE-754 format\n",
    "Be watchful while performing various operations on floating point numbers\n",
    "'''\n",
    "a = 3.3\n",
    "b = 1.0 + 2.0\n",
    "c = (a == b)\n",
    "a, b, c"
   ]
  },
  {
   "cell_type": "markdown",
   "id": "ed768faf",
   "metadata": {},
   "source": [
    "### Conversion/Type casting\n",
    "\n",
    "Implicit Type Conversion: While performing arithmetic operations, integers are automatically converted to float if any of the operands is a float. Also, the division operator / always returns a float, even if both operands are integers. Use the // operator if you want the result of the division to be an int.\n",
    "\n",
    "Explicit Type Conversion or Type Casting refers to the conversion of an object from one data type to another"
   ]
  },
  {
   "cell_type": "code",
   "execution_count": 10,
   "id": "b4fa93ff",
   "metadata": {},
   "outputs": [
    {
     "name": "stdout",
     "output_type": "stream",
     "text": [
      "<class 'int'>\n",
      "<class 'float'>\n"
     ]
    }
   ],
   "source": [
    "a =2+3\n",
    "b=1+3.2\n",
    "print(type(a))\n",
    "print(type(b))"
   ]
  },
  {
   "cell_type": "code",
   "execution_count": 11,
   "id": "74b38e6d",
   "metadata": {},
   "outputs": [
    {
     "data": {
      "text/plain": [
       "(int, float)"
      ]
     },
     "execution_count": 11,
     "metadata": {},
     "output_type": "execute_result"
    }
   ],
   "source": [
    "a=2*1\n",
    "b=3*3.1\n",
    "type(a) ,type(b)"
   ]
  },
  {
   "cell_type": "code",
   "execution_count": 12,
   "id": "31d36cb8",
   "metadata": {},
   "outputs": [
    {
     "data": {
      "text/plain": [
       "(float, float)"
      ]
     },
     "execution_count": 12,
     "metadata": {},
     "output_type": "execute_result"
    }
   ],
   "source": [
    "a=4/2\n",
    "b=4/2.0\n",
    "type(a),type(b)"
   ]
  },
  {
   "cell_type": "code",
   "execution_count": 13,
   "id": "ad2f3702",
   "metadata": {},
   "outputs": [
    {
     "data": {
      "text/plain": [
       "(str, '2')"
      ]
     },
     "execution_count": 13,
     "metadata": {},
     "output_type": "execute_result"
    }
   ],
   "source": [
    "x='2'\n",
    "type(x),x"
   ]
  },
  {
   "cell_type": "code",
   "execution_count": 14,
   "id": "bd617b2c",
   "metadata": {},
   "outputs": [
    {
     "data": {
      "text/plain": [
       "(int, 2)"
      ]
     },
     "execution_count": 14,
     "metadata": {},
     "output_type": "execute_result"
    }
   ],
   "source": [
    "y=int(x)\n",
    "type(y),y"
   ]
  },
  {
   "cell_type": "code",
   "execution_count": 15,
   "id": "7aea6b4d",
   "metadata": {},
   "outputs": [
    {
     "data": {
      "text/plain": [
       "(bool, True)"
      ]
     },
     "execution_count": 15,
     "metadata": {},
     "output_type": "execute_result"
    }
   ],
   "source": [
    "z=bool(-2)\n",
    "type(z),z"
   ]
  },
  {
   "cell_type": "code",
   "execution_count": 16,
   "id": "35bb481c",
   "metadata": {},
   "outputs": [
    {
     "name": "stdout",
     "output_type": "stream",
     "text": [
      "0x15\n"
     ]
    }
   ],
   "source": [
    "print(hex(21))"
   ]
  },
  {
   "cell_type": "code",
   "execution_count": 17,
   "id": "273b7035",
   "metadata": {},
   "outputs": [
    {
     "name": "stdout",
     "output_type": "stream",
     "text": [
      "0o3\n"
     ]
    }
   ],
   "source": [
    "print(oct(3))"
   ]
  },
  {
   "cell_type": "code",
   "execution_count": null,
   "id": "255ff1dc",
   "metadata": {},
   "outputs": [],
   "source": []
  }
 ],
 "metadata": {
  "kernelspec": {
   "display_name": "Python 3 (ipykernel)",
   "language": "python",
   "name": "python3"
  },
  "language_info": {
   "codemirror_mode": {
    "name": "ipython",
    "version": 3
   },
   "file_extension": ".py",
   "mimetype": "text/x-python",
   "name": "python",
   "nbconvert_exporter": "python",
   "pygments_lexer": "ipython3",
   "version": "3.9.15"
  }
 },
 "nbformat": 4,
 "nbformat_minor": 5
}
