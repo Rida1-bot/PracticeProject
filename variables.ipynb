{
 "cells": [
  {
   "cell_type": "markdown",
   "id": "33280412",
   "metadata": {},
   "source": [
    "Variable: We can say variables behave like containers which hold some values. Data stored in variables is called value."
   ]
  },
  {
   "cell_type": "code",
   "execution_count": 2,
   "id": "ff65ac4c",
   "metadata": {},
   "outputs": [],
   "source": [
    "name = \"Rida\""
   ]
  },
  {
   "cell_type": "code",
   "execution_count": 3,
   "id": "0f2b0b86",
   "metadata": {},
   "outputs": [
    {
     "data": {
      "text/plain": [
       "str"
      ]
     },
     "execution_count": 3,
     "metadata": {},
     "output_type": "execute_result"
    }
   ],
   "source": [
    "type(name)"
   ]
  },
  {
   "cell_type": "markdown",
   "id": "481e4f98",
   "metadata": {},
   "source": [
    "### Data Types in Python\n",
    ">> Numbers:\n",
    "This is created by numerical literals, are immutable.\n",
    "1: Boolean\n",
    "2: Integer\n",
    "3: Floating point\n",
    "4: Complex\n",
    "\n",
    ">> Sequence:\n",
    "is ordered collection of items, where each item is indexed by a integer value. \n",
    "1: List\n",
    "2: Tuple\n",
    "3: String\n",
    "\n",
    ">> Set:\n",
    "unorder collection of datatype that is iterable, mutable and has no duplicate value.\n",
    "1: Set(mutable)\n",
    "2: Frozenset(immutable)\n",
    "\n",
    ">> Mapping:\n",
    "unordered data type in Python. Currently there is only one standard mapping that is dictionary."
   ]
  },
  {
   "cell_type": "code",
   "execution_count": 5,
   "id": "2e992ead",
   "metadata": {},
   "outputs": [
    {
     "data": {
      "text/plain": [
       "range"
      ]
     },
     "execution_count": 5,
     "metadata": {},
     "output_type": "execute_result"
    }
   ],
   "source": [
    "a = range(10)\n",
    "type(a)"
   ]
  },
  {
   "cell_type": "markdown",
   "id": "ac6304b4",
   "metadata": {},
   "source": [
    "### Assigning multiple values to variables in one statement"
   ]
  },
  {
   "cell_type": "code",
   "execution_count": 10,
   "id": "26dce287",
   "metadata": {},
   "outputs": [
    {
     "name": "stdout",
     "output_type": "stream",
     "text": [
      "a = 2 b = 4 c = Hello d = 0\n"
     ]
    }
   ],
   "source": [
    "a,b,c,d = 2,4,\"Hello\",0\n",
    "print(\"a =\",a,\"b =\",b,\"c =\",c,\"d =\",d)"
   ]
  },
  {
   "cell_type": "markdown",
   "id": "21b4ced3",
   "metadata": {},
   "source": [
    "### Check data type of varible"
   ]
  },
  {
   "cell_type": "code",
   "execution_count": 14,
   "id": "5683daaf",
   "metadata": {},
   "outputs": [
    {
     "name": "stdout",
     "output_type": "stream",
     "text": [
      "<class 'int'>\n",
      "<class 'str'>\n",
      "<class 'float'>\n"
     ]
    }
   ],
   "source": [
    "x = 3\n",
    "print(type(x))\n",
    "\n",
    "t =\"Hello\"\n",
    "print(type(t))\n",
    "\n",
    "h=7.5\n",
    "print(type(h))"
   ]
  },
  {
   "cell_type": "markdown",
   "id": "a6a7bb3f",
   "metadata": {},
   "source": [
    "### Check ID of variable\n",
    "\n",
    "Every Python object has some ID(memory address) associated with it.\n",
    "\n",
    ">Both the variables a and b have same ID, i.e., both a and b are pointing to same memory location.\n",
    "\n",
    ">Variables in Python are not actual objects, rather are references to objects that are present in memory.\n",
    "\n",
    ">So both the variables a and b are refering to same object 10 in memory and thus having the same ID."
   ]
  },
  {
   "cell_type": "code",
   "execution_count": 18,
   "id": "5632315f",
   "metadata": {},
   "outputs": [
    {
     "name": "stdout",
     "output_type": "stream",
     "text": [
      "3166634600816\n",
      "3166634600784\n"
     ]
    }
   ],
   "source": [
    "u=3\n",
    "print(id(u))\n",
    "k=2\n",
    "print(id(k))"
   ]
  },
  {
   "cell_type": "code",
   "execution_count": 19,
   "id": "752d89dd",
   "metadata": {},
   "outputs": [
    {
     "data": {
      "text/plain": [
       "(3166634600816, 3166634600816)"
      ]
     },
     "execution_count": 19,
     "metadata": {},
     "output_type": "execute_result"
    }
   ],
   "source": [
    "a=3\n",
    "b=3\n",
    "id(a),id(b)"
   ]
  },
  {
   "cell_type": "code",
   "execution_count": 20,
   "id": "cf50bfef",
   "metadata": {},
   "outputs": [
    {
     "data": {
      "text/plain": [
       "3166718294448"
      ]
     },
     "execution_count": 20,
     "metadata": {},
     "output_type": "execute_result"
    }
   ],
   "source": [
    "h =\"Hello\"\n",
    "id(h)"
   ]
  },
  {
   "cell_type": "code",
   "execution_count": 21,
   "id": "fa99f942",
   "metadata": {},
   "outputs": [
    {
     "data": {
      "text/plain": [
       "3166718273776"
      ]
     },
     "execution_count": 21,
     "metadata": {},
     "output_type": "execute_result"
    }
   ],
   "source": [
    "h=\"World\"\n",
    "id(h)"
   ]
  },
  {
   "cell_type": "markdown",
   "id": "7f5772cf",
   "metadata": {},
   "source": [
    "Note that the string object \"Hello\" has become an orphaned object, as no variable is refering to it now. This is because the reference h is now pointing/referring to a new object \"World\". All orphan objects are reaped by Python garbage collector.\n",
    "\n"
   ]
  }
 ],
 "metadata": {
  "kernelspec": {
   "display_name": "Python 3 (ipykernel)",
   "language": "python",
   "name": "python3"
  },
  "language_info": {
   "codemirror_mode": {
    "name": "ipython",
    "version": 3
   },
   "file_extension": ".py",
   "mimetype": "text/x-python",
   "name": "python",
   "nbconvert_exporter": "python",
   "pygments_lexer": "ipython3",
   "version": "3.9.15"
  }
 },
 "nbformat": 4,
 "nbformat_minor": 5
}
